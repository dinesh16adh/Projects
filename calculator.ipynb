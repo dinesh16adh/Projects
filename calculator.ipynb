{
 "cells": [
  {
   "cell_type": "code",
   "execution_count": 2,
   "metadata": {},
   "outputs": [],
   "source": [
    "from tkinter import *\n",
    "from tkinter.messagebox import showerror"
   ]
  },
  {
   "cell_type": "code",
   "execution_count": 3,
   "metadata": {},
   "outputs": [],
   "source": [
    "# Creating a GUI\n",
    "root = Tk()\n",
    "root.title(\"Python Calculator\")\n",
    "root.geometry('265x500')\n",
    "root.resizable(0, 0)\n",
    "root.configure(background='LightCyan2')\n",
    "# StringVar variables\n",
    "entry_strvar = StringVar(root)\n",
    "# Defining the top\n",
    "Label(root, text='Python Calculator', font=(\"Comic Sans MS\", 15), bg='LightCyan2').place(x=25, y=0)\n",
    "Label(root, text='Press \\'x\\' twice for exponentiation', font=(\"Georgia\", 10), bg='LightCyan2').place(x=30, y=30)\n",
    "eqn_entry = Entry(root, justify=RIGHT, textvariable=entry_strvar, width=22, font=12, state='disabled')\n",
    "eqn_entry.place(x=10, y=70)\n",
    "# Updating root\n",
    "root.update()\n",
    "root.mainloop()"
   ]
  }
 ],
 "metadata": {
  "kernelspec": {
   "display_name": "Python 3",
   "language": "python",
   "name": "python3"
  },
  "language_info": {
   "codemirror_mode": {
    "name": "ipython",
    "version": 3
   },
   "file_extension": ".py",
   "mimetype": "text/x-python",
   "name": "python",
   "nbconvert_exporter": "python",
   "pygments_lexer": "ipython3",
   "version": "3.12.2"
  }
 },
 "nbformat": 4,
 "nbformat_minor": 2
}
